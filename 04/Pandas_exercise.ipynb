{
 "cells": [
  {
   "cell_type": "markdown",
   "metadata": {
    "id": "cR5VX3Q-dZuV"
   },
   "source": [
    " # Pandas - cvičení"
   ]
  },
  {
   "cell_type": "markdown",
   "metadata": {
    "id": "WYQU7zowdctI"
   },
   "source": [
    "## Příprava cvičení"
   ]
  },
  {
   "cell_type": "markdown",
   "metadata": {
    "id": "gc0L49SodsgY"
   },
   "source": [
    " - pro potřeby cvičení si spusť následující kód:"
   ]
  },
  {
   "cell_type": "code",
   "execution_count": 1,
   "metadata": {
    "id": "RhEEIiSsePIe"
   },
   "outputs": [
    {
     "name": "stdout",
     "output_type": "stream",
     "text": [
      "Collecting faker\n",
      "  Downloading faker-37.0.0-py3-none-any.whl.metadata (15 kB)\n",
      "Requirement already satisfied: tzdata in /home/dragca/python-knihovny/venv/lib/python3.12/site-packages (from faker) (2025.1)\n",
      "Downloading faker-37.0.0-py3-none-any.whl (1.9 MB)\n",
      "\u001b[2K   \u001b[38;2;114;156;31m━━━━━━━━━━━━━━━━━━━━━━━━━━━━━━━━━━━━━━━━\u001b[0m \u001b[32m1.9/1.9 MB\u001b[0m \u001b[31m3.3 MB/s\u001b[0m eta \u001b[36m0:00:00\u001b[0m[31m3.3 MB/s\u001b[0m eta \u001b[36m0:00:01\u001b[0m\n",
      "Installing collected packages: faker\n",
      "Successfully installed faker-37.0.0\n"
     ]
    }
   ],
   "source": [
    "!pip install faker"
   ]
  },
  {
   "cell_type": "code",
   "execution_count": 2,
   "metadata": {
    "id": "UWbJbtSudgTs"
   },
   "outputs": [
    {
     "data": {
      "text/plain": [
       "'Soubor připraven!'"
      ]
     },
     "metadata": {},
     "output_type": "display_data"
    }
   ],
   "source": [
    "import pandas as pd\n",
    "import random\n",
    "from faker import Faker\n",
    "\n",
    "fake = Faker(\"cs_CZ\")  # Generátor náhodných dat v češtině\n",
    "Faker.seed(42)\n",
    "\n",
    "# Generování 1000 řádků dat\n",
    "data = []\n",
    "for i in range(1, 1001):\n",
    "    jmeno = fake.name()\n",
    "    vek = random.randint(22, 60)\n",
    "    mesto = fake.city()\n",
    "    plat = random.randint(40000, 80000)\n",
    "    pozice = random.choice(\n",
    "        [\"Analytik\", \"Manažer\", \"Konzultant\", \"Specialista\", \"Asistent\", \"Ředitel\", \"Technik\", \"Koordinátor\",\n",
    "         \"Projektový manažer\"])\n",
    "    oddeleni = random.choice(\n",
    "        [\"IT\", \"HR\", \"Prodej\", \"Marketing\", \"Podpora\", \"Stavba\", \"Administrativa\", \"Finanční\", \"Výroba\", \"Kvalita\"])\n",
    "    telefon = fake.random_number(digits=9, fix_len=True)\n",
    "    email = fake.email()\n",
    "    datum_nastupu = fake.date_between(start_date=\"-8y\", end_date=\"today\").strftime(\"%Y-%m-%d\")\n",
    "    data.append([i, jmeno, vek, mesto, plat, pozice, oddeleni, telefon, email, datum_nastupu])\n",
    "\n",
    "# Vytvoření DataFrame\n",
    "columns = [\"Osobní číslo\", \"Jméno\", \"Věk\", \"Město\", \"Plat\", \"Pozice\", \"Oddělení\", \"Telefon\", \"Email\", \"Datum nástupu\"]\n",
    "df = pd.DataFrame(data, columns=columns)\n",
    "\n",
    "# Uložení do CSV\n",
    "df.to_csv(\"pracovnici.csv\", index=False, encoding=\"utf-8\")\n",
    "display('Soubor připraven!')"
   ]
  },
  {
   "cell_type": "markdown",
   "metadata": {
    "id": "S3buCBkKfWgB"
   },
   "source": [
    "## Import Pandas"
   ]
  },
  {
   "cell_type": "markdown",
   "metadata": {
    "id": "U4GM86kUfdyq"
   },
   "source": [
    " - Pandas už sice bude importován, protože jsme ho využili k vytvoření souboru, ale opakování, matka moudrosti, takže ho naimportuj znovu :)"
   ]
  },
  {
   "cell_type": "code",
   "execution_count": 2,
   "metadata": {
    "id": "dvidbH4AfWsW"
   },
   "outputs": [],
   "source": [
    "import pandas as pd"
   ]
  },
  {
   "cell_type": "markdown",
   "metadata": {
    "id": "M8QCBUcYe2vE"
   },
   "source": [
    "## Načtení souboru"
   ]
  },
  {
   "cell_type": "markdown",
   "metadata": {
    "id": "8yCW3Qsxe6iK"
   },
   "source": [
    " - pak je potřeba načíst data z CSV souboru, ať s nimi můžeme pracovat"
   ]
  },
  {
   "cell_type": "code",
   "execution_count": 3,
   "metadata": {
    "id": "GwvgqEgae681"
   },
   "outputs": [],
   "source": [
    "df_workers = pd.read_csv ('pracovnici.csv')"
   ]
  },
  {
   "cell_type": "markdown",
   "metadata": {
    "id": "XzMopqfbwRFs"
   },
   "source": [
    " - mrkni se na několik řádků z dat"
   ]
  },
  {
   "cell_type": "code",
   "execution_count": 8,
   "metadata": {
    "id": "3kP1Z8tvwQrM"
   },
   "outputs": [
    {
     "data": {
      "text/html": [
       "<div>\n",
       "<style scoped>\n",
       "    .dataframe tbody tr th:only-of-type {\n",
       "        vertical-align: middle;\n",
       "    }\n",
       "\n",
       "    .dataframe tbody tr th {\n",
       "        vertical-align: top;\n",
       "    }\n",
       "\n",
       "    .dataframe thead th {\n",
       "        text-align: right;\n",
       "    }\n",
       "</style>\n",
       "<table border=\"1\" class=\"dataframe\">\n",
       "  <thead>\n",
       "    <tr style=\"text-align: right;\">\n",
       "      <th></th>\n",
       "      <th>Osobní číslo</th>\n",
       "      <th>Jméno</th>\n",
       "      <th>Věk</th>\n",
       "      <th>Město</th>\n",
       "      <th>Plat</th>\n",
       "      <th>Pozice</th>\n",
       "      <th>Oddělení</th>\n",
       "      <th>Telefon</th>\n",
       "      <th>Email</th>\n",
       "      <th>Datum nástupu</th>\n",
       "    </tr>\n",
       "  </thead>\n",
       "  <tbody>\n",
       "    <tr>\n",
       "      <th>0</th>\n",
       "      <td>1</td>\n",
       "      <td>Anastázie Vávrová</td>\n",
       "      <td>43</td>\n",
       "      <td>Hulín</td>\n",
       "      <td>55476</td>\n",
       "      <td>Asistent</td>\n",
       "      <td>HR</td>\n",
       "      <td>339670711</td>\n",
       "      <td>vavradusan@example.net</td>\n",
       "      <td>2023-02-11</td>\n",
       "    </tr>\n",
       "    <tr>\n",
       "      <th>1</th>\n",
       "      <td>2</td>\n",
       "      <td>Renáta Beránková</td>\n",
       "      <td>42</td>\n",
       "      <td>Chotěboř</td>\n",
       "      <td>71977</td>\n",
       "      <td>Projektový manažer</td>\n",
       "      <td>Administrativa</td>\n",
       "      <td>334760738</td>\n",
       "      <td>pokornyantonin@example.net</td>\n",
       "      <td>2018-10-12</td>\n",
       "    </tr>\n",
       "    <tr>\n",
       "      <th>2</th>\n",
       "      <td>3</td>\n",
       "      <td>Žofie Matějková</td>\n",
       "      <td>48</td>\n",
       "      <td>Milevsko</td>\n",
       "      <td>40761</td>\n",
       "      <td>Technik</td>\n",
       "      <td>IT</td>\n",
       "      <td>732719211</td>\n",
       "      <td>agatavlckova@example.org</td>\n",
       "      <td>2022-10-09</td>\n",
       "    </tr>\n",
       "    <tr>\n",
       "      <th>3</th>\n",
       "      <td>4</td>\n",
       "      <td>Ivan Hrubý</td>\n",
       "      <td>59</td>\n",
       "      <td>Chyše</td>\n",
       "      <td>41761</td>\n",
       "      <td>Konzultant</td>\n",
       "      <td>Administrativa</td>\n",
       "      <td>199585092</td>\n",
       "      <td>jozef55@example.net</td>\n",
       "      <td>2019-04-21</td>\n",
       "    </tr>\n",
       "    <tr>\n",
       "      <th>4</th>\n",
       "      <td>5</td>\n",
       "      <td>Vojtěch Prokop</td>\n",
       "      <td>22</td>\n",
       "      <td>České Budějovice</td>\n",
       "      <td>65240</td>\n",
       "      <td>Konzultant</td>\n",
       "      <td>Finanční</td>\n",
       "      <td>506448196</td>\n",
       "      <td>ruzickovalydie@example.net</td>\n",
       "      <td>2022-02-19</td>\n",
       "    </tr>\n",
       "  </tbody>\n",
       "</table>\n",
       "</div>"
      ],
      "text/plain": [
       "   Osobní číslo              Jméno  Věk             Město   Plat  \\\n",
       "0             1  Anastázie Vávrová   43             Hulín  55476   \n",
       "1             2   Renáta Beránková   42          Chotěboř  71977   \n",
       "2             3    Žofie Matějková   48          Milevsko  40761   \n",
       "3             4         Ivan Hrubý   59             Chyše  41761   \n",
       "4             5     Vojtěch Prokop   22  České Budějovice  65240   \n",
       "\n",
       "               Pozice        Oddělení    Telefon                       Email  \\\n",
       "0            Asistent              HR  339670711      vavradusan@example.net   \n",
       "1  Projektový manažer  Administrativa  334760738  pokornyantonin@example.net   \n",
       "2             Technik              IT  732719211    agatavlckova@example.org   \n",
       "3          Konzultant  Administrativa  199585092         jozef55@example.net   \n",
       "4          Konzultant        Finanční  506448196  ruzickovalydie@example.net   \n",
       "\n",
       "  Datum nástupu  \n",
       "0    2023-02-11  \n",
       "1    2018-10-12  \n",
       "2    2022-10-09  \n",
       "3    2019-04-21  \n",
       "4    2022-02-19  "
      ]
     },
     "execution_count": 8,
     "metadata": {},
     "output_type": "execute_result"
    }
   ],
   "source": [
    "df_workers.head()"
   ]
  },
  {
   "cell_type": "markdown",
   "metadata": {
    "id": "bgQlz2ctwYoF"
   },
   "source": [
    " - koukni na informace o sloupcích"
   ]
  },
  {
   "cell_type": "code",
   "execution_count": 20,
   "metadata": {
    "id": "t0TwkN2SwZRM"
   },
   "outputs": [
    {
     "name": "stdout",
     "output_type": "stream",
     "text": [
      "<class 'pandas.core.frame.DataFrame'>\n",
      "RangeIndex: 1000 entries, 0 to 999\n",
      "Data columns (total 10 columns):\n",
      " #   Column         Non-Null Count  Dtype \n",
      "---  ------         --------------  ----- \n",
      " 0   Osobní číslo   1000 non-null   object\n",
      " 1   Jméno          1000 non-null   object\n",
      " 2   Věk            1000 non-null   int64 \n",
      " 3   Město          1000 non-null   object\n",
      " 4   Plat           1000 non-null   int64 \n",
      " 5   Pozice         1000 non-null   object\n",
      " 6   Oddělení       1000 non-null   object\n",
      " 7   Telefon        1000 non-null   object\n",
      " 8   Email          1000 non-null   object\n",
      " 9   Datum nástupu  1000 non-null   object\n",
      "dtypes: int64(2), object(8)\n",
      "memory usage: 78.3+ KB\n"
     ]
    }
   ],
   "source": [
    "df_workers.info()"
   ]
  },
  {
   "cell_type": "markdown",
   "metadata": {
    "id": "SXyd0hNPwcjF"
   },
   "source": [
    " - koukni na základní statistické údaje"
   ]
  },
  {
   "cell_type": "code",
   "execution_count": 14,
   "metadata": {
    "id": "C49JKe3-wc5g"
   },
   "outputs": [
    {
     "data": {
      "text/plain": [
       "count        1000\n",
       "unique        425\n",
       "top       Radnice\n",
       "freq            7\n",
       "Name: Město, dtype: object"
      ]
     },
     "execution_count": 14,
     "metadata": {},
     "output_type": "execute_result"
    }
   ],
   "source": [
    "df_workers['Město'].describe(include='all')"
   ]
  },
  {
   "cell_type": "markdown",
   "metadata": {
    "id": "2VWXy110ygV7"
   },
   "source": [
    "- a dál už podle lektora :)"
   ]
  },
  {
   "cell_type": "code",
   "execution_count": 16,
   "metadata": {
    "id": "lOQ3XU6TymH-"
   },
   "outputs": [
    {
     "data": {
      "text/html": [
       "<div>\n",
       "<style scoped>\n",
       "    .dataframe tbody tr th:only-of-type {\n",
       "        vertical-align: middle;\n",
       "    }\n",
       "\n",
       "    .dataframe tbody tr th {\n",
       "        vertical-align: top;\n",
       "    }\n",
       "\n",
       "    .dataframe thead th {\n",
       "        text-align: right;\n",
       "    }\n",
       "</style>\n",
       "<table border=\"1\" class=\"dataframe\">\n",
       "  <thead>\n",
       "    <tr style=\"text-align: right;\">\n",
       "      <th></th>\n",
       "      <th>Osobní číslo</th>\n",
       "      <th>Věk</th>\n",
       "      <th>Plat</th>\n",
       "      <th>Telefon</th>\n",
       "    </tr>\n",
       "  </thead>\n",
       "  <tbody>\n",
       "    <tr>\n",
       "      <th>count</th>\n",
       "      <td>1000.000000</td>\n",
       "      <td>1000.000000</td>\n",
       "      <td>1000.000000</td>\n",
       "      <td>1.000000e+03</td>\n",
       "    </tr>\n",
       "    <tr>\n",
       "      <th>mean</th>\n",
       "      <td>500.500000</td>\n",
       "      <td>40.777000</td>\n",
       "      <td>59631.313000</td>\n",
       "      <td>5.569704e+08</td>\n",
       "    </tr>\n",
       "    <tr>\n",
       "      <th>std</th>\n",
       "      <td>288.819436</td>\n",
       "      <td>11.527018</td>\n",
       "      <td>11609.284914</td>\n",
       "      <td>2.571703e+08</td>\n",
       "    </tr>\n",
       "    <tr>\n",
       "      <th>min</th>\n",
       "      <td>1.000000</td>\n",
       "      <td>22.000000</td>\n",
       "      <td>40065.000000</td>\n",
       "      <td>1.010749e+08</td>\n",
       "    </tr>\n",
       "    <tr>\n",
       "      <th>25%</th>\n",
       "      <td>250.750000</td>\n",
       "      <td>31.000000</td>\n",
       "      <td>49446.250000</td>\n",
       "      <td>3.348265e+08</td>\n",
       "    </tr>\n",
       "    <tr>\n",
       "      <th>50%</th>\n",
       "      <td>500.500000</td>\n",
       "      <td>40.000000</td>\n",
       "      <td>59502.000000</td>\n",
       "      <td>5.573649e+08</td>\n",
       "    </tr>\n",
       "    <tr>\n",
       "      <th>75%</th>\n",
       "      <td>750.250000</td>\n",
       "      <td>51.000000</td>\n",
       "      <td>69186.250000</td>\n",
       "      <td>7.859518e+08</td>\n",
       "    </tr>\n",
       "    <tr>\n",
       "      <th>max</th>\n",
       "      <td>1000.000000</td>\n",
       "      <td>60.000000</td>\n",
       "      <td>79960.000000</td>\n",
       "      <td>9.993714e+08</td>\n",
       "    </tr>\n",
       "  </tbody>\n",
       "</table>\n",
       "</div>"
      ],
      "text/plain": [
       "       Osobní číslo          Věk          Plat       Telefon\n",
       "count   1000.000000  1000.000000   1000.000000  1.000000e+03\n",
       "mean     500.500000    40.777000  59631.313000  5.569704e+08\n",
       "std      288.819436    11.527018  11609.284914  2.571703e+08\n",
       "min        1.000000    22.000000  40065.000000  1.010749e+08\n",
       "25%      250.750000    31.000000  49446.250000  3.348265e+08\n",
       "50%      500.500000    40.000000  59502.000000  5.573649e+08\n",
       "75%      750.250000    51.000000  69186.250000  7.859518e+08\n",
       "max     1000.000000    60.000000  79960.000000  9.993714e+08"
      ]
     },
     "execution_count": 16,
     "metadata": {},
     "output_type": "execute_result"
    }
   ],
   "source": [
    "df_workers.describe()"
   ]
  },
  {
   "cell_type": "code",
   "execution_count": 17,
   "metadata": {},
   "outputs": [],
   "source": [
    "df_workers['Osobní číslo'] = df_workers['Osobní číslo'].astype('object')"
   ]
  },
  {
   "cell_type": "code",
   "execution_count": 23,
   "metadata": {},
   "outputs": [
    {
     "data": {
      "text/html": [
       "<div>\n",
       "<style scoped>\n",
       "    .dataframe tbody tr th:only-of-type {\n",
       "        vertical-align: middle;\n",
       "    }\n",
       "\n",
       "    .dataframe tbody tr th {\n",
       "        vertical-align: top;\n",
       "    }\n",
       "\n",
       "    .dataframe thead th {\n",
       "        text-align: right;\n",
       "    }\n",
       "</style>\n",
       "<table border=\"1\" class=\"dataframe\">\n",
       "  <thead>\n",
       "    <tr style=\"text-align: right;\">\n",
       "      <th></th>\n",
       "      <th>Věk</th>\n",
       "      <th>Plat</th>\n",
       "    </tr>\n",
       "  </thead>\n",
       "  <tbody>\n",
       "    <tr>\n",
       "      <th>count</th>\n",
       "      <td>1000.000000</td>\n",
       "      <td>1000.000000</td>\n",
       "    </tr>\n",
       "    <tr>\n",
       "      <th>mean</th>\n",
       "      <td>40.777000</td>\n",
       "      <td>59631.313000</td>\n",
       "    </tr>\n",
       "    <tr>\n",
       "      <th>std</th>\n",
       "      <td>11.527018</td>\n",
       "      <td>11609.284914</td>\n",
       "    </tr>\n",
       "    <tr>\n",
       "      <th>min</th>\n",
       "      <td>22.000000</td>\n",
       "      <td>40065.000000</td>\n",
       "    </tr>\n",
       "    <tr>\n",
       "      <th>25%</th>\n",
       "      <td>31.000000</td>\n",
       "      <td>49446.250000</td>\n",
       "    </tr>\n",
       "    <tr>\n",
       "      <th>50%</th>\n",
       "      <td>40.000000</td>\n",
       "      <td>59502.000000</td>\n",
       "    </tr>\n",
       "    <tr>\n",
       "      <th>75%</th>\n",
       "      <td>51.000000</td>\n",
       "      <td>69186.250000</td>\n",
       "    </tr>\n",
       "    <tr>\n",
       "      <th>max</th>\n",
       "      <td>60.000000</td>\n",
       "      <td>79960.000000</td>\n",
       "    </tr>\n",
       "  </tbody>\n",
       "</table>\n",
       "</div>"
      ],
      "text/plain": [
       "               Věk          Plat\n",
       "count  1000.000000   1000.000000\n",
       "mean     40.777000  59631.313000\n",
       "std      11.527018  11609.284914\n",
       "min      22.000000  40065.000000\n",
       "25%      31.000000  49446.250000\n",
       "50%      40.000000  59502.000000\n",
       "75%      51.000000  69186.250000\n",
       "max      60.000000  79960.000000"
      ]
     },
     "execution_count": 23,
     "metadata": {},
     "output_type": "execute_result"
    }
   ],
   "source": [
    "df_workers.describe()"
   ]
  },
  {
   "cell_type": "code",
   "execution_count": 21,
   "metadata": {},
   "outputs": [],
   "source": [
    "df_workers['Telefon'] = df_workers['Telefon'].astype('object')"
   ]
  },
  {
   "cell_type": "code",
   "execution_count": 25,
   "metadata": {},
   "outputs": [
    {
     "data": {
      "text/html": [
       "<div>\n",
       "<style scoped>\n",
       "    .dataframe tbody tr th:only-of-type {\n",
       "        vertical-align: middle;\n",
       "    }\n",
       "\n",
       "    .dataframe tbody tr th {\n",
       "        vertical-align: top;\n",
       "    }\n",
       "\n",
       "    .dataframe thead th {\n",
       "        text-align: right;\n",
       "    }\n",
       "</style>\n",
       "<table border=\"1\" class=\"dataframe\">\n",
       "  <thead>\n",
       "    <tr style=\"text-align: right;\">\n",
       "      <th></th>\n",
       "      <th>Osobní číslo</th>\n",
       "      <th>Jméno</th>\n",
       "      <th>Věk</th>\n",
       "      <th>Město</th>\n",
       "      <th>Plat</th>\n",
       "      <th>Pozice</th>\n",
       "      <th>Oddělení</th>\n",
       "      <th>Telefon</th>\n",
       "      <th>Email</th>\n",
       "      <th>Datum nástupu</th>\n",
       "    </tr>\n",
       "  </thead>\n",
       "  <tbody>\n",
       "    <tr>\n",
       "      <th>count</th>\n",
       "      <td>1000.0</td>\n",
       "      <td>1000</td>\n",
       "      <td>1000.000000</td>\n",
       "      <td>1000</td>\n",
       "      <td>1000.000000</td>\n",
       "      <td>1000</td>\n",
       "      <td>1000</td>\n",
       "      <td>1000.0</td>\n",
       "      <td>1000</td>\n",
       "      <td>1000</td>\n",
       "    </tr>\n",
       "    <tr>\n",
       "      <th>unique</th>\n",
       "      <td>1000.0</td>\n",
       "      <td>978</td>\n",
       "      <td>NaN</td>\n",
       "      <td>425</td>\n",
       "      <td>NaN</td>\n",
       "      <td>9</td>\n",
       "      <td>10</td>\n",
       "      <td>1000.0</td>\n",
       "      <td>994</td>\n",
       "      <td>855</td>\n",
       "    </tr>\n",
       "    <tr>\n",
       "      <th>top</th>\n",
       "      <td>1000.0</td>\n",
       "      <td>Naděžda Malá</td>\n",
       "      <td>NaN</td>\n",
       "      <td>Radnice</td>\n",
       "      <td>NaN</td>\n",
       "      <td>Asistent</td>\n",
       "      <td>Stavba</td>\n",
       "      <td>496331524.0</td>\n",
       "      <td>jjandova@example.org</td>\n",
       "      <td>2021-06-17</td>\n",
       "    </tr>\n",
       "    <tr>\n",
       "      <th>freq</th>\n",
       "      <td>1.0</td>\n",
       "      <td>2</td>\n",
       "      <td>NaN</td>\n",
       "      <td>7</td>\n",
       "      <td>NaN</td>\n",
       "      <td>132</td>\n",
       "      <td>118</td>\n",
       "      <td>1.0</td>\n",
       "      <td>2</td>\n",
       "      <td>4</td>\n",
       "    </tr>\n",
       "    <tr>\n",
       "      <th>mean</th>\n",
       "      <td>NaN</td>\n",
       "      <td>NaN</td>\n",
       "      <td>40.777000</td>\n",
       "      <td>NaN</td>\n",
       "      <td>59631.313000</td>\n",
       "      <td>NaN</td>\n",
       "      <td>NaN</td>\n",
       "      <td>NaN</td>\n",
       "      <td>NaN</td>\n",
       "      <td>NaN</td>\n",
       "    </tr>\n",
       "    <tr>\n",
       "      <th>std</th>\n",
       "      <td>NaN</td>\n",
       "      <td>NaN</td>\n",
       "      <td>11.527018</td>\n",
       "      <td>NaN</td>\n",
       "      <td>11609.284914</td>\n",
       "      <td>NaN</td>\n",
       "      <td>NaN</td>\n",
       "      <td>NaN</td>\n",
       "      <td>NaN</td>\n",
       "      <td>NaN</td>\n",
       "    </tr>\n",
       "    <tr>\n",
       "      <th>min</th>\n",
       "      <td>NaN</td>\n",
       "      <td>NaN</td>\n",
       "      <td>22.000000</td>\n",
       "      <td>NaN</td>\n",
       "      <td>40065.000000</td>\n",
       "      <td>NaN</td>\n",
       "      <td>NaN</td>\n",
       "      <td>NaN</td>\n",
       "      <td>NaN</td>\n",
       "      <td>NaN</td>\n",
       "    </tr>\n",
       "    <tr>\n",
       "      <th>25%</th>\n",
       "      <td>NaN</td>\n",
       "      <td>NaN</td>\n",
       "      <td>31.000000</td>\n",
       "      <td>NaN</td>\n",
       "      <td>49446.250000</td>\n",
       "      <td>NaN</td>\n",
       "      <td>NaN</td>\n",
       "      <td>NaN</td>\n",
       "      <td>NaN</td>\n",
       "      <td>NaN</td>\n",
       "    </tr>\n",
       "    <tr>\n",
       "      <th>50%</th>\n",
       "      <td>NaN</td>\n",
       "      <td>NaN</td>\n",
       "      <td>40.000000</td>\n",
       "      <td>NaN</td>\n",
       "      <td>59502.000000</td>\n",
       "      <td>NaN</td>\n",
       "      <td>NaN</td>\n",
       "      <td>NaN</td>\n",
       "      <td>NaN</td>\n",
       "      <td>NaN</td>\n",
       "    </tr>\n",
       "    <tr>\n",
       "      <th>75%</th>\n",
       "      <td>NaN</td>\n",
       "      <td>NaN</td>\n",
       "      <td>51.000000</td>\n",
       "      <td>NaN</td>\n",
       "      <td>69186.250000</td>\n",
       "      <td>NaN</td>\n",
       "      <td>NaN</td>\n",
       "      <td>NaN</td>\n",
       "      <td>NaN</td>\n",
       "      <td>NaN</td>\n",
       "    </tr>\n",
       "    <tr>\n",
       "      <th>max</th>\n",
       "      <td>NaN</td>\n",
       "      <td>NaN</td>\n",
       "      <td>60.000000</td>\n",
       "      <td>NaN</td>\n",
       "      <td>79960.000000</td>\n",
       "      <td>NaN</td>\n",
       "      <td>NaN</td>\n",
       "      <td>NaN</td>\n",
       "      <td>NaN</td>\n",
       "      <td>NaN</td>\n",
       "    </tr>\n",
       "  </tbody>\n",
       "</table>\n",
       "</div>"
      ],
      "text/plain": [
       "        Osobní číslo         Jméno          Věk    Město          Plat  \\\n",
       "count         1000.0          1000  1000.000000     1000   1000.000000   \n",
       "unique        1000.0           978          NaN      425           NaN   \n",
       "top           1000.0  Naděžda Malá          NaN  Radnice           NaN   \n",
       "freq             1.0             2          NaN        7           NaN   \n",
       "mean             NaN           NaN    40.777000      NaN  59631.313000   \n",
       "std              NaN           NaN    11.527018      NaN  11609.284914   \n",
       "min              NaN           NaN    22.000000      NaN  40065.000000   \n",
       "25%              NaN           NaN    31.000000      NaN  49446.250000   \n",
       "50%              NaN           NaN    40.000000      NaN  59502.000000   \n",
       "75%              NaN           NaN    51.000000      NaN  69186.250000   \n",
       "max              NaN           NaN    60.000000      NaN  79960.000000   \n",
       "\n",
       "          Pozice Oddělení      Telefon                 Email Datum nástupu  \n",
       "count       1000     1000       1000.0                  1000          1000  \n",
       "unique         9       10       1000.0                   994           855  \n",
       "top     Asistent   Stavba  496331524.0  jjandova@example.org    2021-06-17  \n",
       "freq         132      118          1.0                     2             4  \n",
       "mean         NaN      NaN          NaN                   NaN           NaN  \n",
       "std          NaN      NaN          NaN                   NaN           NaN  \n",
       "min          NaN      NaN          NaN                   NaN           NaN  \n",
       "25%          NaN      NaN          NaN                   NaN           NaN  \n",
       "50%          NaN      NaN          NaN                   NaN           NaN  \n",
       "75%          NaN      NaN          NaN                   NaN           NaN  \n",
       "max          NaN      NaN          NaN                   NaN           NaN  "
      ]
     },
     "execution_count": 25,
     "metadata": {},
     "output_type": "execute_result"
    }
   ],
   "source": [
    "df_workers.describe(include='all')"
   ]
  },
  {
   "cell_type": "markdown",
   "metadata": {},
   "source": [
    "- vypsat všechny lidi starší 40 let s platem větším než 50 000 "
   ]
  },
  {
   "cell_type": "code",
   "execution_count": 33,
   "metadata": {},
   "outputs": [
    {
     "data": {
      "text/html": [
       "<div>\n",
       "<style scoped>\n",
       "    .dataframe tbody tr th:only-of-type {\n",
       "        vertical-align: middle;\n",
       "    }\n",
       "\n",
       "    .dataframe tbody tr th {\n",
       "        vertical-align: top;\n",
       "    }\n",
       "\n",
       "    .dataframe thead th {\n",
       "        text-align: right;\n",
       "    }\n",
       "</style>\n",
       "<table border=\"1\" class=\"dataframe\">\n",
       "  <thead>\n",
       "    <tr style=\"text-align: right;\">\n",
       "      <th></th>\n",
       "      <th>Osobní číslo</th>\n",
       "      <th>Jméno</th>\n",
       "      <th>Věk</th>\n",
       "      <th>Město</th>\n",
       "      <th>Plat</th>\n",
       "      <th>Pozice</th>\n",
       "      <th>Oddělení</th>\n",
       "      <th>Telefon</th>\n",
       "      <th>Email</th>\n",
       "      <th>Datum nástupu</th>\n",
       "    </tr>\n",
       "  </thead>\n",
       "  <tbody>\n",
       "    <tr>\n",
       "      <th>0</th>\n",
       "      <td>1</td>\n",
       "      <td>Anastázie Vávrová</td>\n",
       "      <td>43</td>\n",
       "      <td>Hulín</td>\n",
       "      <td>55476</td>\n",
       "      <td>Asistent</td>\n",
       "      <td>HR</td>\n",
       "      <td>339670711</td>\n",
       "      <td>vavradusan@example.net</td>\n",
       "      <td>2023-02-11</td>\n",
       "    </tr>\n",
       "    <tr>\n",
       "      <th>1</th>\n",
       "      <td>2</td>\n",
       "      <td>Renáta Beránková</td>\n",
       "      <td>42</td>\n",
       "      <td>Chotěboř</td>\n",
       "      <td>71977</td>\n",
       "      <td>Projektový manažer</td>\n",
       "      <td>Administrativa</td>\n",
       "      <td>334760738</td>\n",
       "      <td>pokornyantonin@example.net</td>\n",
       "      <td>2018-10-12</td>\n",
       "    </tr>\n",
       "    <tr>\n",
       "      <th>5</th>\n",
       "      <td>6</td>\n",
       "      <td>Jarmila Urbanová</td>\n",
       "      <td>41</td>\n",
       "      <td>Brtnice</td>\n",
       "      <td>55089</td>\n",
       "      <td>Asistent</td>\n",
       "      <td>Prodej</td>\n",
       "      <td>810026086</td>\n",
       "      <td>zemanmilan@example.org</td>\n",
       "      <td>2024-01-12</td>\n",
       "    </tr>\n",
       "    <tr>\n",
       "      <th>6</th>\n",
       "      <td>7</td>\n",
       "      <td>Nikola Kolářová</td>\n",
       "      <td>48</td>\n",
       "      <td>Radnice</td>\n",
       "      <td>71902</td>\n",
       "      <td>Specialista</td>\n",
       "      <td>HR</td>\n",
       "      <td>995619255</td>\n",
       "      <td>jakubmachacek@example.com</td>\n",
       "      <td>2018-11-12</td>\n",
       "    </tr>\n",
       "    <tr>\n",
       "      <th>7</th>\n",
       "      <td>8</td>\n",
       "      <td>Ctirad Strnad</td>\n",
       "      <td>46</td>\n",
       "      <td>Náměšť nad Oslavou</td>\n",
       "      <td>64697</td>\n",
       "      <td>Konzultant</td>\n",
       "      <td>Stavba</td>\n",
       "      <td>882893941</td>\n",
       "      <td>hajekvratislav@example.com</td>\n",
       "      <td>2019-05-07</td>\n",
       "    </tr>\n",
       "    <tr>\n",
       "      <th>...</th>\n",
       "      <td>...</td>\n",
       "      <td>...</td>\n",
       "      <td>...</td>\n",
       "      <td>...</td>\n",
       "      <td>...</td>\n",
       "      <td>...</td>\n",
       "      <td>...</td>\n",
       "      <td>...</td>\n",
       "      <td>...</td>\n",
       "      <td>...</td>\n",
       "    </tr>\n",
       "    <tr>\n",
       "      <th>991</th>\n",
       "      <td>992</td>\n",
       "      <td>Dorota Valentová</td>\n",
       "      <td>56</td>\n",
       "      <td>Starý Plzenec</td>\n",
       "      <td>69609</td>\n",
       "      <td>Ředitel</td>\n",
       "      <td>Administrativa</td>\n",
       "      <td>905783320</td>\n",
       "      <td>stejskalovadorota@example.com</td>\n",
       "      <td>2020-04-05</td>\n",
       "    </tr>\n",
       "    <tr>\n",
       "      <th>992</th>\n",
       "      <td>993</td>\n",
       "      <td>Alexandr Vlček</td>\n",
       "      <td>52</td>\n",
       "      <td>Dolní Bousov</td>\n",
       "      <td>55538</td>\n",
       "      <td>Asistent</td>\n",
       "      <td>Podpora</td>\n",
       "      <td>366656201</td>\n",
       "      <td>kasparovaevelina@example.net</td>\n",
       "      <td>2021-12-26</td>\n",
       "    </tr>\n",
       "    <tr>\n",
       "      <th>993</th>\n",
       "      <td>994</td>\n",
       "      <td>Alena Černá</td>\n",
       "      <td>53</td>\n",
       "      <td>Volyně</td>\n",
       "      <td>77002</td>\n",
       "      <td>Ředitel</td>\n",
       "      <td>HR</td>\n",
       "      <td>859624835</td>\n",
       "      <td>horvathovaeva@example.com</td>\n",
       "      <td>2023-04-07</td>\n",
       "    </tr>\n",
       "    <tr>\n",
       "      <th>995</th>\n",
       "      <td>996</td>\n",
       "      <td>Bohumil Černý</td>\n",
       "      <td>42</td>\n",
       "      <td>Chyše</td>\n",
       "      <td>64682</td>\n",
       "      <td>Koordinátor</td>\n",
       "      <td>IT</td>\n",
       "      <td>649264485</td>\n",
       "      <td>michal03@example.org</td>\n",
       "      <td>2019-01-01</td>\n",
       "    </tr>\n",
       "    <tr>\n",
       "      <th>996</th>\n",
       "      <td>997</td>\n",
       "      <td>Radim Šťastný</td>\n",
       "      <td>45</td>\n",
       "      <td>Hradec nad Moravicí</td>\n",
       "      <td>64246</td>\n",
       "      <td>Koordinátor</td>\n",
       "      <td>Prodej</td>\n",
       "      <td>834887664</td>\n",
       "      <td>libor72@example.org</td>\n",
       "      <td>2018-12-26</td>\n",
       "    </tr>\n",
       "  </tbody>\n",
       "</table>\n",
       "<p>358 rows × 10 columns</p>\n",
       "</div>"
      ],
      "text/plain": [
       "    Osobní číslo              Jméno  Věk                Město   Plat  \\\n",
       "0              1  Anastázie Vávrová   43                Hulín  55476   \n",
       "1              2   Renáta Beránková   42             Chotěboř  71977   \n",
       "5              6   Jarmila Urbanová   41              Brtnice  55089   \n",
       "6              7    Nikola Kolářová   48              Radnice  71902   \n",
       "7              8      Ctirad Strnad   46   Náměšť nad Oslavou  64697   \n",
       "..           ...                ...  ...                  ...    ...   \n",
       "991          992   Dorota Valentová   56        Starý Plzenec  69609   \n",
       "992          993     Alexandr Vlček   52         Dolní Bousov  55538   \n",
       "993          994        Alena Černá   53               Volyně  77002   \n",
       "995          996      Bohumil Černý   42                Chyše  64682   \n",
       "996          997      Radim Šťastný   45  Hradec nad Moravicí  64246   \n",
       "\n",
       "                 Pozice        Oddělení    Telefon  \\\n",
       "0              Asistent              HR  339670711   \n",
       "1    Projektový manažer  Administrativa  334760738   \n",
       "5              Asistent          Prodej  810026086   \n",
       "6           Specialista              HR  995619255   \n",
       "7            Konzultant          Stavba  882893941   \n",
       "..                  ...             ...        ...   \n",
       "991             Ředitel  Administrativa  905783320   \n",
       "992            Asistent         Podpora  366656201   \n",
       "993             Ředitel              HR  859624835   \n",
       "995         Koordinátor              IT  649264485   \n",
       "996         Koordinátor          Prodej  834887664   \n",
       "\n",
       "                             Email Datum nástupu  \n",
       "0           vavradusan@example.net    2023-02-11  \n",
       "1       pokornyantonin@example.net    2018-10-12  \n",
       "5           zemanmilan@example.org    2024-01-12  \n",
       "6        jakubmachacek@example.com    2018-11-12  \n",
       "7       hajekvratislav@example.com    2019-05-07  \n",
       "..                             ...           ...  \n",
       "991  stejskalovadorota@example.com    2020-04-05  \n",
       "992   kasparovaevelina@example.net    2021-12-26  \n",
       "993      horvathovaeva@example.com    2023-04-07  \n",
       "995           michal03@example.org    2019-01-01  \n",
       "996            libor72@example.org    2018-12-26  \n",
       "\n",
       "[358 rows x 10 columns]"
      ]
     },
     "execution_count": 33,
     "metadata": {},
     "output_type": "execute_result"
    }
   ],
   "source": [
    "df_workers[(df_workers[\"Věk\"] > 40) & (df_workers[\"Plat\"] > 50000)]"
   ]
  },
  {
   "cell_type": "code",
   "execution_count": 35,
   "metadata": {},
   "outputs": [],
   "source": [
    "df_vyber = df_workers[(df_workers[\"Věk\"] > 40) & (df_workers[\"Plat\"] > 50000)]"
   ]
  },
  {
   "cell_type": "code",
   "execution_count": 37,
   "metadata": {},
   "outputs": [],
   "source": [
    "# df_vyber['Město'].value_count()"
   ]
  },
  {
   "cell_type": "code",
   "execution_count": 43,
   "metadata": {},
   "outputs": [
    {
     "data": {
      "text/plain": [
       "Pozice\n",
       "Analytik              59588.347826\n",
       "Asistent              57733.643939\n",
       "Konzultant            59262.443478\n",
       "Koordinátor           61506.654867\n",
       "Manažer               58501.792793\n",
       "Projektový manažer    59551.144330\n",
       "Specialista           60204.981308\n",
       "Technik               59971.933962\n",
       "Ředitel               60800.586538\n",
       "Name: Plat, dtype: float64"
      ]
     },
     "execution_count": 43,
     "metadata": {},
     "output_type": "execute_result"
    }
   ],
   "source": [
    "df_workers.groupby('Pozice', observed=True)[\"Plat\"].mean()"
   ]
  },
  {
   "cell_type": "code",
   "execution_count": 42,
   "metadata": {},
   "outputs": [
    {
     "data": {
      "text/html": [
       "<div>\n",
       "<style scoped>\n",
       "    .dataframe tbody tr th:only-of-type {\n",
       "        vertical-align: middle;\n",
       "    }\n",
       "\n",
       "    .dataframe tbody tr th {\n",
       "        vertical-align: top;\n",
       "    }\n",
       "\n",
       "    .dataframe thead tr th {\n",
       "        text-align: left;\n",
       "    }\n",
       "\n",
       "    .dataframe thead tr:last-of-type th {\n",
       "        text-align: right;\n",
       "    }\n",
       "</style>\n",
       "<table border=\"1\" class=\"dataframe\">\n",
       "  <thead>\n",
       "    <tr>\n",
       "      <th></th>\n",
       "      <th></th>\n",
       "      <th colspan=\"3\" halign=\"left\">Plat</th>\n",
       "    </tr>\n",
       "    <tr>\n",
       "      <th></th>\n",
       "      <th></th>\n",
       "      <th>min</th>\n",
       "      <th>mean</th>\n",
       "      <th>max</th>\n",
       "    </tr>\n",
       "    <tr>\n",
       "      <th>Pozice</th>\n",
       "      <th>Město</th>\n",
       "      <th></th>\n",
       "      <th></th>\n",
       "      <th></th>\n",
       "    </tr>\n",
       "  </thead>\n",
       "  <tbody>\n",
       "    <tr>\n",
       "      <th rowspan=\"5\" valign=\"top\">Analytik</th>\n",
       "      <th>Bavorov</th>\n",
       "      <td>51867</td>\n",
       "      <td>51867.0</td>\n",
       "      <td>51867</td>\n",
       "    </tr>\n",
       "    <tr>\n",
       "      <th>Bechyně</th>\n",
       "      <td>76615</td>\n",
       "      <td>76615.0</td>\n",
       "      <td>76615</td>\n",
       "    </tr>\n",
       "    <tr>\n",
       "      <th>Brtnice</th>\n",
       "      <td>79926</td>\n",
       "      <td>79926.0</td>\n",
       "      <td>79926</td>\n",
       "    </tr>\n",
       "    <tr>\n",
       "      <th>Budišov nad Budišovkou</th>\n",
       "      <td>49522</td>\n",
       "      <td>49522.0</td>\n",
       "      <td>49522</td>\n",
       "    </tr>\n",
       "    <tr>\n",
       "      <th>Bělá pod Bezdězem</th>\n",
       "      <td>51984</td>\n",
       "      <td>51984.0</td>\n",
       "      <td>51984</td>\n",
       "    </tr>\n",
       "    <tr>\n",
       "      <th>...</th>\n",
       "      <th>...</th>\n",
       "      <td>...</td>\n",
       "      <td>...</td>\n",
       "      <td>...</td>\n",
       "    </tr>\n",
       "    <tr>\n",
       "      <th rowspan=\"5\" valign=\"top\">Ředitel</th>\n",
       "      <th>Česká Skalice</th>\n",
       "      <td>74697</td>\n",
       "      <td>74697.0</td>\n",
       "      <td>74697</td>\n",
       "    </tr>\n",
       "    <tr>\n",
       "      <th>Šenov</th>\n",
       "      <td>54654</td>\n",
       "      <td>54654.0</td>\n",
       "      <td>54654</td>\n",
       "    </tr>\n",
       "    <tr>\n",
       "      <th>Štětí</th>\n",
       "      <td>78386</td>\n",
       "      <td>78386.0</td>\n",
       "      <td>78386</td>\n",
       "    </tr>\n",
       "    <tr>\n",
       "      <th>Železný Brod</th>\n",
       "      <td>54557</td>\n",
       "      <td>54557.0</td>\n",
       "      <td>54557</td>\n",
       "    </tr>\n",
       "    <tr>\n",
       "      <th>Židlochovice</th>\n",
       "      <td>67747</td>\n",
       "      <td>67747.0</td>\n",
       "      <td>67747</td>\n",
       "    </tr>\n",
       "  </tbody>\n",
       "</table>\n",
       "<p>890 rows × 3 columns</p>\n",
       "</div>"
      ],
      "text/plain": [
       "                                  Plat                \n",
       "                                   min     mean    max\n",
       "Pozice   Město                                        \n",
       "Analytik Bavorov                 51867  51867.0  51867\n",
       "         Bechyně                 76615  76615.0  76615\n",
       "         Brtnice                 79926  79926.0  79926\n",
       "         Budišov nad Budišovkou  49522  49522.0  49522\n",
       "         Bělá pod Bezdězem       51984  51984.0  51984\n",
       "...                                ...      ...    ...\n",
       "Ředitel  Česká Skalice           74697  74697.0  74697\n",
       "         Šenov                   54654  54654.0  54654\n",
       "         Štětí                   78386  78386.0  78386\n",
       "         Železný Brod            54557  54557.0  54557\n",
       "         Židlochovice            67747  67747.0  67747\n",
       "\n",
       "[890 rows x 3 columns]"
      ]
     },
     "execution_count": 42,
     "metadata": {},
     "output_type": "execute_result"
    }
   ],
   "source": [
    "df_workers.groupby(['Pozice', 'Město']).agg({'Plat':{'mean', 'max', 'min'}})"
   ]
  },
  {
   "cell_type": "code",
   "execution_count": null,
   "metadata": {},
   "outputs": [],
   "source": []
  }
 ],
 "metadata": {
  "colab": {
   "provenance": []
  },
  "kernelspec": {
   "display_name": "Python 3 (ipykernel)",
   "language": "python",
   "name": "python3"
  },
  "language_info": {
   "codemirror_mode": {
    "name": "ipython",
    "version": 3
   },
   "file_extension": ".py",
   "mimetype": "text/x-python",
   "name": "python",
   "nbconvert_exporter": "python",
   "pygments_lexer": "ipython3",
   "version": "3.12.3"
  }
 },
 "nbformat": 4,
 "nbformat_minor": 4
}
